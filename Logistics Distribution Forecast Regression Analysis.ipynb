{
 "cells": [
  {
   "cell_type": "code",
   "execution_count": 52,
   "metadata": {},
   "outputs": [],
   "source": [
    "import numpy as np\n",
    "import pandas as pd\n",
    "import seaborn as sns\n",
    "import matplotlib.pyplot as plt\n",
    "import koreanize_matplotlib\n",
    "%matplotlib inline\n",
    "\n",
    "import warnings\n",
    "warnings.filterwarnings('ignore')"
   ]
  },
  {
   "cell_type": "markdown",
   "metadata": {},
   "source": [
    "# 데이터 확인"
   ]
  },
  {
   "cell_type": "code",
   "execution_count": 53,
   "metadata": {},
   "outputs": [],
   "source": [
    "df = pd.read_csv('data/logistic.csv', encoding='cp949')"
   ]
  },
  {
   "cell_type": "markdown",
   "metadata": {},
   "source": [
    "- features 확인"
   ]
  },
  {
   "cell_type": "code",
   "execution_count": 54,
   "metadata": {},
   "outputs": [
    {
     "data": {
      "text/html": [
       "<div>\n",
       "<style scoped>\n",
       "    .dataframe tbody tr th:only-of-type {\n",
       "        vertical-align: middle;\n",
       "    }\n",
       "\n",
       "    .dataframe tbody tr th {\n",
       "        vertical-align: top;\n",
       "    }\n",
       "\n",
       "    .dataframe thead th {\n",
       "        text-align: right;\n",
       "    }\n",
       "</style>\n",
       "<table border=\"1\" class=\"dataframe\">\n",
       "  <thead>\n",
       "    <tr style=\"text-align: right;\">\n",
       "      <th></th>\n",
       "      <th>index</th>\n",
       "      <th>송하인_격자공간고유번호</th>\n",
       "      <th>수하인_격자공간고유번호</th>\n",
       "      <th>물품_카테고리</th>\n",
       "      <th>운송장_건수</th>\n",
       "    </tr>\n",
       "  </thead>\n",
       "  <tbody>\n",
       "    <tr>\n",
       "      <th>0</th>\n",
       "      <td>0</td>\n",
       "      <td>5011000595017300</td>\n",
       "      <td>2871000192069300</td>\n",
       "      <td>음반</td>\n",
       "      <td>3</td>\n",
       "    </tr>\n",
       "    <tr>\n",
       "      <th>1</th>\n",
       "      <td>1</td>\n",
       "      <td>4148000690043300</td>\n",
       "      <td>5011000264024400</td>\n",
       "      <td>문화컨텐츠</td>\n",
       "      <td>3</td>\n",
       "    </tr>\n",
       "    <tr>\n",
       "      <th>2</th>\n",
       "      <td>2</td>\n",
       "      <td>5011000078068400</td>\n",
       "      <td>1120000007005400</td>\n",
       "      <td>농산물</td>\n",
       "      <td>3</td>\n",
       "    </tr>\n",
       "    <tr>\n",
       "      <th>3</th>\n",
       "      <td>3</td>\n",
       "      <td>4127100048006400</td>\n",
       "      <td>5011000587019400</td>\n",
       "      <td>기타식품</td>\n",
       "      <td>7</td>\n",
       "    </tr>\n",
       "    <tr>\n",
       "      <th>4</th>\n",
       "      <td>4</td>\n",
       "      <td>5011000078068400</td>\n",
       "      <td>2823700010076300</td>\n",
       "      <td>농산물</td>\n",
       "      <td>3</td>\n",
       "    </tr>\n",
       "  </tbody>\n",
       "</table>\n",
       "</div>"
      ],
      "text/plain": [
       "   index      송하인_격자공간고유번호      수하인_격자공간고유번호 물품_카테고리  운송장_건수\n",
       "0      0  5011000595017300  2871000192069300      음반       3\n",
       "1      1  4148000690043300  5011000264024400   문화컨텐츠       3\n",
       "2      2  5011000078068400  1120000007005400     농산물       3\n",
       "3      3  4127100048006400  5011000587019400    기타식품       7\n",
       "4      4  5011000078068400  2823700010076300     농산물       3"
      ]
     },
     "execution_count": 54,
     "metadata": {},
     "output_type": "execute_result"
    }
   ],
   "source": [
    "df.head()"
   ]
  },
  {
   "cell_type": "markdown",
   "metadata": {},
   "source": [
    "# 데이터 EDA & 전처리"
   ]
  },
  {
   "cell_type": "markdown",
   "metadata": {},
   "source": [
    "## 기본 정보"
   ]
  },
  {
   "cell_type": "code",
   "execution_count": 55,
   "metadata": {},
   "outputs": [
    {
     "name": "stdout",
     "output_type": "stream",
     "text": [
      "<class 'pandas.core.frame.DataFrame'>\n",
      "RangeIndex: 31684 entries, 0 to 31683\n",
      "Data columns (total 5 columns):\n",
      " #   Column        Non-Null Count  Dtype \n",
      "---  ------        --------------  ----- \n",
      " 0   index         31684 non-null  int64 \n",
      " 1   송하인_격자공간고유번호  31684 non-null  int64 \n",
      " 2   수하인_격자공간고유번호  31684 non-null  int64 \n",
      " 3   물품_카테고리       31684 non-null  object\n",
      " 4   운송장_건수        31684 non-null  int64 \n",
      "dtypes: int64(4), object(1)\n",
      "memory usage: 1.2+ MB\n"
     ]
    }
   ],
   "source": [
    "df.info()"
   ]
  },
  {
   "cell_type": "code",
   "execution_count": 56,
   "metadata": {},
   "outputs": [
    {
     "data": {
      "text/plain": [
       "(31684, 5)"
      ]
     },
     "execution_count": 56,
     "metadata": {},
     "output_type": "execute_result"
    }
   ],
   "source": [
    "# 데이터 샘플은 많고, 특징은 적다\n",
    "df.shape"
   ]
  },
  {
   "cell_type": "code",
   "execution_count": 57,
   "metadata": {},
   "outputs": [
    {
     "data": {
      "text/html": [
       "<div>\n",
       "<style scoped>\n",
       "    .dataframe tbody tr th:only-of-type {\n",
       "        vertical-align: middle;\n",
       "    }\n",
       "\n",
       "    .dataframe tbody tr th {\n",
       "        vertical-align: top;\n",
       "    }\n",
       "\n",
       "    .dataframe thead th {\n",
       "        text-align: right;\n",
       "    }\n",
       "</style>\n",
       "<table border=\"1\" class=\"dataframe\">\n",
       "  <thead>\n",
       "    <tr style=\"text-align: right;\">\n",
       "      <th></th>\n",
       "      <th>index</th>\n",
       "      <th>송하인_격자공간고유번호</th>\n",
       "      <th>수하인_격자공간고유번호</th>\n",
       "      <th>운송장_건수</th>\n",
       "    </tr>\n",
       "  </thead>\n",
       "  <tbody>\n",
       "    <tr>\n",
       "      <th>count</th>\n",
       "      <td>31684.000000</td>\n",
       "      <td>3.168400e+04</td>\n",
       "      <td>3.168400e+04</td>\n",
       "      <td>31684.000000</td>\n",
       "    </tr>\n",
       "    <tr>\n",
       "      <th>mean</th>\n",
       "      <td>15841.500000</td>\n",
       "      <td>4.648814e+15</td>\n",
       "      <td>3.801369e+15</td>\n",
       "      <td>4.879308</td>\n",
       "    </tr>\n",
       "    <tr>\n",
       "      <th>std</th>\n",
       "      <td>9146.527301</td>\n",
       "      <td>8.341336e+14</td>\n",
       "      <td>1.314660e+15</td>\n",
       "      <td>6.756473</td>\n",
       "    </tr>\n",
       "    <tr>\n",
       "      <th>min</th>\n",
       "      <td>0.000000</td>\n",
       "      <td>1.111000e+15</td>\n",
       "      <td>1.111000e+15</td>\n",
       "      <td>3.000000</td>\n",
       "    </tr>\n",
       "    <tr>\n",
       "      <th>25%</th>\n",
       "      <td>7920.750000</td>\n",
       "      <td>4.713000e+15</td>\n",
       "      <td>2.826000e+15</td>\n",
       "      <td>3.000000</td>\n",
       "    </tr>\n",
       "    <tr>\n",
       "      <th>50%</th>\n",
       "      <td>15841.500000</td>\n",
       "      <td>5.011000e+15</td>\n",
       "      <td>4.159000e+15</td>\n",
       "      <td>3.000000</td>\n",
       "    </tr>\n",
       "    <tr>\n",
       "      <th>75%</th>\n",
       "      <td>23762.250000</td>\n",
       "      <td>5.013001e+15</td>\n",
       "      <td>5.011000e+15</td>\n",
       "      <td>5.000000</td>\n",
       "    </tr>\n",
       "    <tr>\n",
       "      <th>max</th>\n",
       "      <td>31683.000000</td>\n",
       "      <td>5.013001e+15</td>\n",
       "      <td>5.013001e+15</td>\n",
       "      <td>413.000000</td>\n",
       "    </tr>\n",
       "  </tbody>\n",
       "</table>\n",
       "</div>"
      ],
      "text/plain": [
       "              index  송하인_격자공간고유번호  수하인_격자공간고유번호        운송장_건수\n",
       "count  31684.000000  3.168400e+04  3.168400e+04  31684.000000\n",
       "mean   15841.500000  4.648814e+15  3.801369e+15      4.879308\n",
       "std     9146.527301  8.341336e+14  1.314660e+15      6.756473\n",
       "min        0.000000  1.111000e+15  1.111000e+15      3.000000\n",
       "25%     7920.750000  4.713000e+15  2.826000e+15      3.000000\n",
       "50%    15841.500000  5.011000e+15  4.159000e+15      3.000000\n",
       "75%    23762.250000  5.013001e+15  5.011000e+15      5.000000\n",
       "max    31683.000000  5.013001e+15  5.013001e+15    413.000000"
      ]
     },
     "execution_count": 57,
     "metadata": {},
     "output_type": "execute_result"
    }
   ],
   "source": [
    "# 운송장 건수의 최대값이 많이 높아 보인다. -> 이상치라고 판단해야 하나?\n",
    "df.describe()"
   ]
  },
  {
   "cell_type": "code",
   "execution_count": 58,
   "metadata": {},
   "outputs": [
    {
     "data": {
      "text/plain": [
       "index           0\n",
       "송하인_격자공간고유번호    0\n",
       "수하인_격자공간고유번호    0\n",
       "물품_카테고리         0\n",
       "운송장_건수          0\n",
       "dtype: int64"
      ]
     },
     "execution_count": 58,
     "metadata": {},
     "output_type": "execute_result"
    }
   ],
   "source": [
    "# 결측치는 없다\n",
    "df.isnull().sum()"
   ]
  },
  {
   "cell_type": "code",
   "execution_count": 59,
   "metadata": {},
   "outputs": [
    {
     "data": {
      "text/plain": [
       "index            0.000000\n",
       "송하인_격자공간고유번호    -3.025235\n",
       "수하인_격자공간고유번호    -1.005811\n",
       "운송장_건수          18.083137\n",
       "dtype: float64"
      ]
     },
     "execution_count": 59,
     "metadata": {},
     "output_type": "execute_result"
    }
   ],
   "source": [
    "# 출발지/도착지 고유번호 및 운송장 건수에 대한 쏠림 현상은 대도시/소도시, 택배 대표 물룸별로 나눠지기에, 해소 보다는 특징으로 살펴봐야 할 것 같다.\n",
    "df.skew()"
   ]
  },
  {
   "cell_type": "code",
   "execution_count": 60,
   "metadata": {},
   "outputs": [
    {
     "data": {
      "text/plain": [
       "Index(['index', '송하인_격자공간고유번호', '수하인_격자공간고유번호', '물품_카테고리', '운송장_건수'], dtype='object')"
      ]
     },
     "execution_count": 60,
     "metadata": {},
     "output_type": "execute_result"
    }
   ],
   "source": [
    "df.columns"
   ]
  },
  {
   "cell_type": "code",
   "execution_count": 61,
   "metadata": {},
   "outputs": [
    {
     "name": "stdout",
     "output_type": "stream",
     "text": [
      "index num :  31684\n",
      "index :  [    0     1     2 ... 31681 31682 31683]\n",
      "송하인_격자공간고유번호 num :  4229\n",
      "송하인_격자공간고유번호 :  [5011000595017300 4148000690043300 5011000078068400 ... 2638000008087200\n",
      " 1120000013030100 2811000139076100]\n",
      "수하인_격자공간고유번호 num :  26875\n",
      "수하인_격자공간고유번호 :  [2871000192069300 5011000264024400 1120000007005400 ... 5013000954034200\n",
      " 5011000213073200 5011000263065200]\n",
      "물품_카테고리 num :  100\n",
      "물품_카테고리 :  ['음반' '문화컨텐츠' '농산물' '기타식품' '수산' '아우터' '신발' '건강식품' '음료' '가공식품' '스킨케어' '축산'\n",
      " '헤어케어' '기저귀/물티슈' '의료용품' '기타디지털/가전' '상의' '건강용품' '바디케어' '기타스포츠/레저'\n",
      " '출산/유아동의류' '반려동물' '완구/매트' '과자' '생활용품' '하의' '문구/사무용품' '선케어' '다이어트식품'\n",
      " '기타패션의류' '냉동/간편조리식품' '네일케어' '서재/사무용가구' '선글라스/안경테' '기타화장품/미용' '등산' '모니터'\n",
      " '주방용품' '색조메이크업' '침구세트' '침구단품' '인테리어소품' '양말/스타킹' '클렌징' '공구' '이미용가전' 'PC'\n",
      " '커튼/블라인드' '헤어스타일링' '주방가구' 'DIY자재/용품' '헤어액세서리' '김치' '위생/건강용품' '침실가구' '가방'\n",
      " '주방가전' '낚시' '재활운동용품' '자동차용품' '뷰티소품' '주얼리' '골프' 'PC주변기기' '수납/정리용품' '음향가전'\n",
      " '잠옷' '패션소품' '언더웨어' '원피스/점프슈트' '스포츠잡화' '수납가구' '취미용품' '아웃도어가구' '계절가전' '홈데코'\n",
      " '캠핑' '남성화장품' '분유/이유식/아기간식' '베이스메이크업' '헬스' '향수' '모자' '카페트/러그' '구강위생용품'\n",
      " '눈관리용품' '기타출산/육아' '기타패션잡화' '기능성' '반찬' '욕실용품' '스마트디바이스액세서리' '게임기/타이틀'\n",
      " '생활가전' '유아가구' '출산/유아동잡화' '세탁용품' '태블릿PC/노트북액세서리' '스마트디바이스' '지갑']\n",
      "운송장_건수 num :  100\n",
      "운송장_건수 :  [  3   7   6   5   8   4  10   9  77  11  27  37  16  24  31  30  18 100\n",
      "  12  20  41  13  14  17  15  26  80  47  25  39  38  22  81  42  21  53\n",
      "  19  28  91  29  23  48  56  32  84 197  60  62  43  40  50  46  58  75\n",
      "  78  63  90 151  34  70  33  45 160 105 164  52  36 120  72  61  93 123\n",
      "  35  51  49  54  44 108 211 130 134  79 118  76  67  74  68 179 109 122\n",
      " 195  71 413  66 150  59 103 239  82  89]\n"
     ]
    }
   ],
   "source": [
    "# 연속형/범주형 특징이 섞여 있다.\n",
    "for col in df.columns:\n",
    "    print(f'{col} num : ', len(df[col].unique()))\n",
    "    print(f'{col} : ', df[col].unique())"
   ]
  },
  {
   "cell_type": "markdown",
   "metadata": {},
   "source": [
    "## 배송지역 탐색"
   ]
  },
  {
   "cell_type": "markdown",
   "metadata": {},
   "source": [
    "- 컬럼 rename"
   ]
  },
  {
   "cell_type": "code",
   "execution_count": 62,
   "metadata": {},
   "outputs": [
    {
     "data": {
      "text/html": [
       "<div>\n",
       "<style scoped>\n",
       "    .dataframe tbody tr th:only-of-type {\n",
       "        vertical-align: middle;\n",
       "    }\n",
       "\n",
       "    .dataframe tbody tr th {\n",
       "        vertical-align: top;\n",
       "    }\n",
       "\n",
       "    .dataframe thead th {\n",
       "        text-align: right;\n",
       "    }\n",
       "</style>\n",
       "<table border=\"1\" class=\"dataframe\">\n",
       "  <thead>\n",
       "    <tr style=\"text-align: right;\">\n",
       "      <th></th>\n",
       "      <th>index</th>\n",
       "      <th>start</th>\n",
       "      <th>end</th>\n",
       "      <th>product</th>\n",
       "      <th>cnt</th>\n",
       "    </tr>\n",
       "  </thead>\n",
       "  <tbody>\n",
       "    <tr>\n",
       "      <th>0</th>\n",
       "      <td>0</td>\n",
       "      <td>5011000595017300</td>\n",
       "      <td>2871000192069300</td>\n",
       "      <td>음반</td>\n",
       "      <td>3</td>\n",
       "    </tr>\n",
       "    <tr>\n",
       "      <th>1</th>\n",
       "      <td>1</td>\n",
       "      <td>4148000690043300</td>\n",
       "      <td>5011000264024400</td>\n",
       "      <td>문화컨텐츠</td>\n",
       "      <td>3</td>\n",
       "    </tr>\n",
       "    <tr>\n",
       "      <th>2</th>\n",
       "      <td>2</td>\n",
       "      <td>5011000078068400</td>\n",
       "      <td>1120000007005400</td>\n",
       "      <td>농산물</td>\n",
       "      <td>3</td>\n",
       "    </tr>\n",
       "    <tr>\n",
       "      <th>3</th>\n",
       "      <td>3</td>\n",
       "      <td>4127100048006400</td>\n",
       "      <td>5011000587019400</td>\n",
       "      <td>기타식품</td>\n",
       "      <td>7</td>\n",
       "    </tr>\n",
       "    <tr>\n",
       "      <th>4</th>\n",
       "      <td>4</td>\n",
       "      <td>5011000078068400</td>\n",
       "      <td>2823700010076300</td>\n",
       "      <td>농산물</td>\n",
       "      <td>3</td>\n",
       "    </tr>\n",
       "  </tbody>\n",
       "</table>\n",
       "</div>"
      ],
      "text/plain": [
       "   index             start               end product  cnt\n",
       "0      0  5011000595017300  2871000192069300      음반    3\n",
       "1      1  4148000690043300  5011000264024400   문화컨텐츠    3\n",
       "2      2  5011000078068400  1120000007005400     농산물    3\n",
       "3      3  4127100048006400  5011000587019400    기타식품    7\n",
       "4      4  5011000078068400  2823700010076300     농산물    3"
      ]
     },
     "execution_count": 62,
     "metadata": {},
     "output_type": "execute_result"
    }
   ],
   "source": [
    "df.columns = ['index', 'start', 'end', 'product', 'cnt']\n",
    "df.head()"
   ]
  },
  {
   "cell_type": "markdown",
   "metadata": {},
   "source": [
    "- 도착지의 건수가 너무 적어서, 출발지의 건수를 기준으로 분석 진행"
   ]
  },
  {
   "cell_type": "code",
   "execution_count": 63,
   "metadata": {},
   "outputs": [
    {
     "data": {
      "text/plain": [
       "5011000078068400    3882\n",
       "5013000610049100    1790\n",
       "5013000731055200    1235\n",
       "5011000137030100    1137\n",
       "5013000821028200     731\n",
       "                    ... \n",
       "4511300030055300       1\n",
       "4719000321023400       1\n",
       "4423000423020300       1\n",
       "4711300748080100       1\n",
       "2811000139076100       1\n",
       "Name: start, Length: 4229, dtype: int64"
      ]
     },
     "execution_count": 63,
     "metadata": {},
     "output_type": "execute_result"
    }
   ],
   "source": [
    "df['start'].value_counts()"
   ]
  },
  {
   "cell_type": "code",
   "execution_count": 64,
   "metadata": {},
   "outputs": [
    {
     "data": {
      "text/plain": [
       "5013000635005300    35\n",
       "5011000543041100    33\n",
       "5011000314069300    33\n",
       "5011000544072300    30\n",
       "5011000318044100    30\n",
       "                    ..\n",
       "5011000109040100     1\n",
       "4183000550093100     1\n",
       "4425000028078200     1\n",
       "1147000011064300     1\n",
       "5011000263065200     1\n",
       "Name: end, Length: 26875, dtype: int64"
      ]
     },
     "execution_count": 64,
     "metadata": {},
     "output_type": "execute_result"
    }
   ],
   "source": [
    "df['end'].value_counts()"
   ]
  },
  {
   "cell_type": "markdown",
   "metadata": {},
   "source": [
    "- 출발-도착 중복 데이터 존재"
   ]
  },
  {
   "cell_type": "code",
   "execution_count": 65,
   "metadata": {},
   "outputs": [
    {
     "name": "stdout",
     "output_type": "stream",
     "text": [
      "unique:  30455\n",
      "data len : 31684\n",
      "중복 :  1229\n"
     ]
    }
   ],
   "source": [
    "all_list = list(df['start']) + list(df['end'])\n",
    "unique_list = set(all_list)\n",
    "\n",
    "print('unique: ', len(unique_list))\n",
    "print('data len :', len(df))\n",
    "print('중복 : ', len(df) - len(unique_list))"
   ]
  },
  {
   "cell_type": "code",
   "execution_count": null,
   "metadata": {},
   "outputs": [],
   "source": []
  },
  {
   "cell_type": "markdown",
   "metadata": {},
   "source": [
    "## 물품 카테고리 탐색"
   ]
  },
  {
   "cell_type": "markdown",
   "metadata": {},
   "source": [
    "- 물폼 100개에 대한 cnt(배송량)"
   ]
  },
  {
   "cell_type": "code",
   "execution_count": 66,
   "metadata": {},
   "outputs": [
    {
     "data": {
      "text/plain": [
       "농산물              20321\n",
       "문화컨텐츠             1091\n",
       "음료                1034\n",
       "수산                 860\n",
       "가공식품               846\n",
       "                 ...  \n",
       "유아가구                 4\n",
       "기타출산/육아              4\n",
       "태블릿PC/노트북액세서리        4\n",
       "선케어                  4\n",
       "스포츠잡화                4\n",
       "Name: product, Length: 100, dtype: int64"
      ]
     },
     "execution_count": 66,
     "metadata": {},
     "output_type": "execute_result"
    }
   ],
   "source": [
    "df['product'].value_counts()"
   ]
  },
  {
   "cell_type": "code",
   "execution_count": 67,
   "metadata": {},
   "outputs": [
    {
     "data": {
      "text/html": [
       "<div>\n",
       "<style scoped>\n",
       "    .dataframe tbody tr th:only-of-type {\n",
       "        vertical-align: middle;\n",
       "    }\n",
       "\n",
       "    .dataframe tbody tr th {\n",
       "        vertical-align: top;\n",
       "    }\n",
       "\n",
       "    .dataframe thead th {\n",
       "        text-align: right;\n",
       "    }\n",
       "</style>\n",
       "<table border=\"1\" class=\"dataframe\">\n",
       "  <thead>\n",
       "    <tr style=\"text-align: right;\">\n",
       "      <th></th>\n",
       "      <th>product</th>\n",
       "      <th>cnt</th>\n",
       "    </tr>\n",
       "  </thead>\n",
       "  <tbody>\n",
       "    <tr>\n",
       "      <th>27</th>\n",
       "      <td>농산물</td>\n",
       "      <td>87829</td>\n",
       "    </tr>\n",
       "    <tr>\n",
       "      <th>66</th>\n",
       "      <td>음료</td>\n",
       "      <td>5890</td>\n",
       "    </tr>\n",
       "    <tr>\n",
       "      <th>3</th>\n",
       "      <td>가공식품</td>\n",
       "      <td>5766</td>\n",
       "    </tr>\n",
       "    <tr>\n",
       "      <th>34</th>\n",
       "      <td>문화컨텐츠</td>\n",
       "      <td>5429</td>\n",
       "    </tr>\n",
       "    <tr>\n",
       "      <th>51</th>\n",
       "      <td>수산</td>\n",
       "      <td>4880</td>\n",
       "    </tr>\n",
       "    <tr>\n",
       "      <th>...</th>\n",
       "      <td>...</td>\n",
       "      <td>...</td>\n",
       "    </tr>\n",
       "    <tr>\n",
       "      <th>18</th>\n",
       "      <td>기타출산/육아</td>\n",
       "      <td>22</td>\n",
       "    </tr>\n",
       "    <tr>\n",
       "      <th>79</th>\n",
       "      <td>지갑</td>\n",
       "      <td>22</td>\n",
       "    </tr>\n",
       "    <tr>\n",
       "      <th>48</th>\n",
       "      <td>세탁용품</td>\n",
       "      <td>20</td>\n",
       "    </tr>\n",
       "    <tr>\n",
       "      <th>65</th>\n",
       "      <td>유아가구</td>\n",
       "      <td>13</td>\n",
       "    </tr>\n",
       "    <tr>\n",
       "      <th>55</th>\n",
       "      <td>스포츠잡화</td>\n",
       "      <td>13</td>\n",
       "    </tr>\n",
       "  </tbody>\n",
       "</table>\n",
       "<p>100 rows × 2 columns</p>\n",
       "</div>"
      ],
      "text/plain": [
       "    product    cnt\n",
       "27      농산물  87829\n",
       "66       음료   5890\n",
       "3      가공식품   5766\n",
       "34    문화컨텐츠   5429\n",
       "51       수산   4880\n",
       "..      ...    ...\n",
       "18  기타출산/육아     22\n",
       "79       지갑     22\n",
       "48     세탁용품     20\n",
       "65     유아가구     13\n",
       "55    스포츠잡화     13\n",
       "\n",
       "[100 rows x 2 columns]"
      ]
     },
     "execution_count": 67,
     "metadata": {},
     "output_type": "execute_result"
    }
   ],
   "source": [
    "df.groupby('product', as_index=False)['cnt'].sum().sort_values(by='cnt', ascending=False)"
   ]
  },
  {
   "cell_type": "code",
   "execution_count": 68,
   "metadata": {},
   "outputs": [
    {
     "data": {
      "text/html": [
       "<div>\n",
       "<style scoped>\n",
       "    .dataframe tbody tr th:only-of-type {\n",
       "        vertical-align: middle;\n",
       "    }\n",
       "\n",
       "    .dataframe tbody tr th {\n",
       "        vertical-align: top;\n",
       "    }\n",
       "\n",
       "    .dataframe thead th {\n",
       "        text-align: right;\n",
       "    }\n",
       "</style>\n",
       "<table border=\"1\" class=\"dataframe\">\n",
       "  <thead>\n",
       "    <tr style=\"text-align: right;\">\n",
       "      <th></th>\n",
       "      <th>product</th>\n",
       "      <th>cnt</th>\n",
       "    </tr>\n",
       "  </thead>\n",
       "  <tbody>\n",
       "    <tr>\n",
       "      <th>27</th>\n",
       "      <td>농산물</td>\n",
       "      <td>87829</td>\n",
       "    </tr>\n",
       "    <tr>\n",
       "      <th>66</th>\n",
       "      <td>음료</td>\n",
       "      <td>5890</td>\n",
       "    </tr>\n",
       "    <tr>\n",
       "      <th>3</th>\n",
       "      <td>가공식품</td>\n",
       "      <td>5766</td>\n",
       "    </tr>\n",
       "    <tr>\n",
       "      <th>34</th>\n",
       "      <td>문화컨텐츠</td>\n",
       "      <td>5429</td>\n",
       "    </tr>\n",
       "    <tr>\n",
       "      <th>51</th>\n",
       "      <td>수산</td>\n",
       "      <td>4880</td>\n",
       "    </tr>\n",
       "    <tr>\n",
       "      <th>...</th>\n",
       "      <td>...</td>\n",
       "      <td>...</td>\n",
       "    </tr>\n",
       "    <tr>\n",
       "      <th>18</th>\n",
       "      <td>기타출산/육아</td>\n",
       "      <td>22</td>\n",
       "    </tr>\n",
       "    <tr>\n",
       "      <th>79</th>\n",
       "      <td>지갑</td>\n",
       "      <td>22</td>\n",
       "    </tr>\n",
       "    <tr>\n",
       "      <th>48</th>\n",
       "      <td>세탁용품</td>\n",
       "      <td>20</td>\n",
       "    </tr>\n",
       "    <tr>\n",
       "      <th>65</th>\n",
       "      <td>유아가구</td>\n",
       "      <td>13</td>\n",
       "    </tr>\n",
       "    <tr>\n",
       "      <th>55</th>\n",
       "      <td>스포츠잡화</td>\n",
       "      <td>13</td>\n",
       "    </tr>\n",
       "  </tbody>\n",
       "</table>\n",
       "<p>100 rows × 2 columns</p>\n",
       "</div>"
      ],
      "text/plain": [
       "    product    cnt\n",
       "27      농산물  87829\n",
       "66       음료   5890\n",
       "3      가공식품   5766\n",
       "34    문화컨텐츠   5429\n",
       "51       수산   4880\n",
       "..      ...    ...\n",
       "18  기타출산/육아     22\n",
       "79       지갑     22\n",
       "48     세탁용품     20\n",
       "65     유아가구     13\n",
       "55    스포츠잡화     13\n",
       "\n",
       "[100 rows x 2 columns]"
      ]
     },
     "execution_count": 68,
     "metadata": {},
     "output_type": "execute_result"
    }
   ],
   "source": [
    "df_cnt = df.groupby('product', as_index=False)['cnt'].sum()\n",
    "df_cnt = df_cnt.sort_values(by=['cnt'], ascending=False)\n",
    "df_cnt"
   ]
  },
  {
   "cell_type": "markdown",
   "metadata": {},
   "source": [
    "- 위에서도 보았듯이, 농산물이 특히 많은 것을 볼 수 있다."
   ]
  },
  {
   "cell_type": "code",
   "execution_count": 69,
   "metadata": {},
   "outputs": [
    {
     "data": {
      "image/png": "[encoded data removed]",
      "text/plain": [
       "<Figure size 1800x360 with 1 Axes>"
      ]
     },
     "metadata": {
      "needs_background": "light"
     },
     "output_type": "display_data"
    }
   ],
   "source": [
    "plt.bar(df_cnt['product'][0:30], df_cnt['cnt'][0:30], label='cnt')\n",
    "plt.xticks(rotation =-20)\n",
    "plt.gcf().set_size_inches(25, 5)\n",
    "plt.show()"
   ]
  },
  {
   "cell_type": "markdown",
   "metadata": {},
   "source": [
    "- 농산물을 제외하고 다시 보자"
   ]
  },
  {
   "cell_type": "code",
   "execution_count": 70,
   "metadata": {},
   "outputs": [
    {
     "data": {
      "image/png": "[encoded data removed]",
      "text/plain": [
       "<Figure size 1800x360 with 1 Axes>"
      ]
     },
     "metadata": {
      "needs_background": "light"
     },
     "output_type": "display_data"
    }
   ],
   "source": [
    "plt.bar(df_cnt['product'][1:31], df_cnt['cnt'][1:31], label='cnt')\n",
    "plt.xticks(rotation =-20)\n",
    "plt.gcf().set_size_inches(25, 5)\n",
    "plt.show()"
   ]
  },
  {
   "cell_type": "code",
   "execution_count": null,
   "metadata": {},
   "outputs": [],
   "source": []
  },
  {
   "cell_type": "markdown",
   "metadata": {},
   "source": [
    "## 출발지/도착지 분석"
   ]
  },
  {
   "cell_type": "markdown",
   "metadata": {},
   "source": [
    "- 출발지"
   ]
  },
  {
   "cell_type": "code",
   "execution_count": 71,
   "metadata": {},
   "outputs": [
    {
     "data": {
      "text/plain": [
       "5011000078068400    3882\n",
       "5013000610049100    1790\n",
       "5013000731055200    1235\n",
       "5011000137030100    1137\n",
       "5013000821028200     731\n",
       "                    ... \n",
       "4511300030055300       1\n",
       "4719000321023400       1\n",
       "4423000423020300       1\n",
       "4711300748080100       1\n",
       "2811000139076100       1\n",
       "Name: start, Length: 4229, dtype: int64"
      ]
     },
     "execution_count": 71,
     "metadata": {},
     "output_type": "execute_result"
    }
   ],
   "source": [
    "df['start'].value_counts()"
   ]
  },
  {
   "cell_type": "code",
   "execution_count": 72,
   "metadata": {},
   "outputs": [
    {
     "data": {
      "text/plain": [
       "4229"
      ]
     },
     "execution_count": 72,
     "metadata": {},
     "output_type": "execute_result"
    }
   ],
   "source": [
    "len(df['start'].value_counts())"
   ]
  },
  {
   "cell_type": "code",
   "execution_count": 73,
   "metadata": {},
   "outputs": [
    {
     "data": {
      "text/plain": [
       "649"
      ]
     },
     "execution_count": 73,
     "metadata": {},
     "output_type": "execute_result"
    }
   ],
   "source": [
    "# 배송 건수가 num_cnt보다 높은 것의 건수 확인\n",
    "num_cnt = 5\n",
    "sum(df['start'].value_counts() > num_cnt)"
   ]
  },
  {
   "cell_type": "markdown",
   "metadata": {},
   "source": [
    "- 물품 건수가 5건 이상의 649개에 대한 출발 배송 건수가 전체 80% 이상을 차지한다."
   ]
  },
  {
   "cell_type": "code",
   "execution_count": 77,
   "metadata": {},
   "outputs": [
    {
     "name": "stdout",
     "output_type": "stream",
     "text": [
      "start_num : 649\n"
     ]
    },
    {
     "data": {
      "text/plain": [
       "0.82391743466734"
      ]
     },
     "execution_count": 77,
     "metadata": {},
     "output_type": "execute_result"
    }
   ],
   "source": [
    "num_cnt = 5\n",
    "start_num = sum(df['start'].value_counts() > num_cnt)\n",
    "print('start_num :', start_num)\n",
    "\n",
    "# 전체 배송 건수 대비 num_cnt에 대한 비율\n",
    "df['start'].value_counts()[:start_num].sum() / df['start'].value_counts().sum()"
   ]
  },
  {
   "cell_type": "markdown",
   "metadata": {},
   "source": [
    "- 도착지"
   ]
  },
  {
   "cell_type": "code",
   "execution_count": 80,
   "metadata": {},
   "outputs": [
    {
     "data": {
      "text/plain": [
       "5013000635005300    35\n",
       "5011000543041100    33\n",
       "5011000314069300    33\n",
       "5011000544072300    30\n",
       "5011000318044100    30\n",
       "                    ..\n",
       "5011000109040100     1\n",
       "4183000550093100     1\n",
       "4425000028078200     1\n",
       "1147000011064300     1\n",
       "5011000263065200     1\n",
       "Name: end, Length: 26875, dtype: int64"
      ]
     },
     "execution_count": 80,
     "metadata": {},
     "output_type": "execute_result"
    }
   ],
   "source": [
    "df['end'].value_counts()"
   ]
  },
  {
   "cell_type": "code",
   "execution_count": 75,
   "metadata": {},
   "outputs": [
    {
     "data": {
      "text/plain": [
       "820"
      ]
     },
     "execution_count": 75,
     "metadata": {},
     "output_type": "execute_result"
    }
   ],
   "source": [
    "# 배송 건수가 num_cnt보다 높은 것의 건수 확인\n",
    "num_cnt = 2\n",
    "sum(df['end'].value_counts() > num_cnt)"
   ]
  },
  {
   "cell_type": "code",
   "execution_count": 78,
   "metadata": {},
   "outputs": [
    {
     "name": "stdout",
     "output_type": "stream",
     "text": [
      "end_num : 820\n"
     ]
    },
    {
     "data": {
      "text/plain": [
       "0.1135273324075243"
      ]
     },
     "execution_count": 78,
     "metadata": {},
     "output_type": "execute_result"
    }
   ],
   "source": [
    "# 건수가 너무 적다\n",
    "num_cnt = 2\n",
    "end_num = sum(df['end'].value_counts() > num_cnt)\n",
    "print('end_num :', end_num)\n",
    "\n",
    "# 전체 배송 건수 대비 num_cnt에 대한 비율\n",
    "df['end'].value_counts()[:end_num].sum() / df['end'].value_counts().sum()"
   ]
  },
  {
   "cell_type": "code",
   "execution_count": 82,
   "metadata": {},
   "outputs": [
    {
     "data": {
      "text/plain": [
       "0.7830135083954046"
      ]
     },
     "execution_count": 82,
     "metadata": {},
     "output_type": "execute_result"
    }
   ],
   "source": [
    "# 도착지는 2만건으로 검색해야 약 80% 비율을 맞춘다\n",
    "df['end'].value_counts().head(20000).sum() / df['end'].value_counts().sum()"
   ]
  },
  {
   "cell_type": "code",
   "execution_count": 84,
   "metadata": {},
   "outputs": [
    {
     "data": {
      "text/html": [
       "<div>\n",
       "<style scoped>\n",
       "    .dataframe tbody tr th:only-of-type {\n",
       "        vertical-align: middle;\n",
       "    }\n",
       "\n",
       "    .dataframe tbody tr th {\n",
       "        vertical-align: top;\n",
       "    }\n",
       "\n",
       "    .dataframe thead th {\n",
       "        text-align: right;\n",
       "    }\n",
       "</style>\n",
       "<table border=\"1\" class=\"dataframe\">\n",
       "  <thead>\n",
       "    <tr style=\"text-align: right;\">\n",
       "      <th></th>\n",
       "      <th>start</th>\n",
       "      <th>end</th>\n",
       "      <th>total</th>\n",
       "    </tr>\n",
       "  </thead>\n",
       "  <tbody>\n",
       "    <tr>\n",
       "      <th>1111000004097200</th>\n",
       "      <td>0.0</td>\n",
       "      <td>1.0</td>\n",
       "      <td>1.0</td>\n",
       "    </tr>\n",
       "    <tr>\n",
       "      <th>1111000005062300</th>\n",
       "      <td>0.0</td>\n",
       "      <td>1.0</td>\n",
       "      <td>1.0</td>\n",
       "    </tr>\n",
       "    <tr>\n",
       "      <th>1111000005067400</th>\n",
       "      <td>0.0</td>\n",
       "      <td>1.0</td>\n",
       "      <td>1.0</td>\n",
       "    </tr>\n",
       "    <tr>\n",
       "      <th>1111000007059100</th>\n",
       "      <td>0.0</td>\n",
       "      <td>1.0</td>\n",
       "      <td>1.0</td>\n",
       "    </tr>\n",
       "    <tr>\n",
       "      <th>1111000007071100</th>\n",
       "      <td>0.0</td>\n",
       "      <td>1.0</td>\n",
       "      <td>1.0</td>\n",
       "    </tr>\n",
       "    <tr>\n",
       "      <th>...</th>\n",
       "      <td>...</td>\n",
       "      <td>...</td>\n",
       "      <td>...</td>\n",
       "    </tr>\n",
       "    <tr>\n",
       "      <th>5013000954034200</th>\n",
       "      <td>0.0</td>\n",
       "      <td>1.0</td>\n",
       "      <td>1.0</td>\n",
       "    </tr>\n",
       "    <tr>\n",
       "      <th>5013000954034300</th>\n",
       "      <td>0.0</td>\n",
       "      <td>2.0</td>\n",
       "      <td>2.0</td>\n",
       "    </tr>\n",
       "    <tr>\n",
       "      <th>5013000954042300</th>\n",
       "      <td>0.0</td>\n",
       "      <td>1.0</td>\n",
       "      <td>1.0</td>\n",
       "    </tr>\n",
       "    <tr>\n",
       "      <th>5013000957072200</th>\n",
       "      <td>0.0</td>\n",
       "      <td>1.0</td>\n",
       "      <td>1.0</td>\n",
       "    </tr>\n",
       "    <tr>\n",
       "      <th>5013000972007300</th>\n",
       "      <td>0.0</td>\n",
       "      <td>1.0</td>\n",
       "      <td>1.0</td>\n",
       "    </tr>\n",
       "  </tbody>\n",
       "</table>\n",
       "<p>30455 rows × 3 columns</p>\n",
       "</div>"
      ],
      "text/plain": [
       "                  start  end  total\n",
       "1111000004097200    0.0  1.0    1.0\n",
       "1111000005062300    0.0  1.0    1.0\n",
       "1111000005067400    0.0  1.0    1.0\n",
       "1111000007059100    0.0  1.0    1.0\n",
       "1111000007071100    0.0  1.0    1.0\n",
       "...                 ...  ...    ...\n",
       "5013000954034200    0.0  1.0    1.0\n",
       "5013000954034300    0.0  2.0    2.0\n",
       "5013000954042300    0.0  1.0    1.0\n",
       "5013000957072200    0.0  1.0    1.0\n",
       "5013000972007300    0.0  1.0    1.0\n",
       "\n",
       "[30455 rows x 3 columns]"
      ]
     },
     "execution_count": 84,
     "metadata": {},
     "output_type": "execute_result"
    }
   ],
   "source": [
    "df_start_end = pd.DataFrame({'start':df['start'].value_counts(), 'end':df['end'].value_counts()})\n",
    "df_start_end.fillna(0, inplace=True)\n",
    "df_start_end['total'] = df_start_end['start'] + df_start_end['end']\n",
    "df_start_end"
   ]
  },
  {
   "cell_type": "markdown",
   "metadata": {},
   "source": [
    "- 출발지와 도착지가 같은 고유번호 존재 : 반품인가?"
   ]
  },
  {
   "cell_type": "code",
   "execution_count": 86,
   "metadata": {},
   "outputs": [
    {
     "data": {
      "text/html": [
       "<div>\n",
       "<style scoped>\n",
       "    .dataframe tbody tr th:only-of-type {\n",
       "        vertical-align: middle;\n",
       "    }\n",
       "\n",
       "    .dataframe tbody tr th {\n",
       "        vertical-align: top;\n",
       "    }\n",
       "\n",
       "    .dataframe thead th {\n",
       "        text-align: right;\n",
       "    }\n",
       "</style>\n",
       "<table border=\"1\" class=\"dataframe\">\n",
       "  <thead>\n",
       "    <tr style=\"text-align: right;\">\n",
       "      <th></th>\n",
       "      <th>start</th>\n",
       "      <th>end</th>\n",
       "      <th>total</th>\n",
       "    </tr>\n",
       "  </thead>\n",
       "  <tbody>\n",
       "    <tr>\n",
       "      <th>5011000078068400</th>\n",
       "      <td>3882.0</td>\n",
       "      <td>14.0</td>\n",
       "      <td>3896.0</td>\n",
       "    </tr>\n",
       "    <tr>\n",
       "      <th>5013000610049100</th>\n",
       "      <td>1790.0</td>\n",
       "      <td>0.0</td>\n",
       "      <td>1790.0</td>\n",
       "    </tr>\n",
       "    <tr>\n",
       "      <th>5013000731055200</th>\n",
       "      <td>1235.0</td>\n",
       "      <td>0.0</td>\n",
       "      <td>1235.0</td>\n",
       "    </tr>\n",
       "    <tr>\n",
       "      <th>5011000137030100</th>\n",
       "      <td>1137.0</td>\n",
       "      <td>2.0</td>\n",
       "      <td>1139.0</td>\n",
       "    </tr>\n",
       "    <tr>\n",
       "      <th>5013000821028200</th>\n",
       "      <td>731.0</td>\n",
       "      <td>0.0</td>\n",
       "      <td>731.0</td>\n",
       "    </tr>\n",
       "    <tr>\n",
       "      <th>...</th>\n",
       "      <td>...</td>\n",
       "      <td>...</td>\n",
       "      <td>...</td>\n",
       "    </tr>\n",
       "    <tr>\n",
       "      <th>4111700017060200</th>\n",
       "      <td>0.0</td>\n",
       "      <td>1.0</td>\n",
       "      <td>1.0</td>\n",
       "    </tr>\n",
       "    <tr>\n",
       "      <th>4111700017046100</th>\n",
       "      <td>0.0</td>\n",
       "      <td>1.0</td>\n",
       "      <td>1.0</td>\n",
       "    </tr>\n",
       "    <tr>\n",
       "      <th>4111700017039400</th>\n",
       "      <td>0.0</td>\n",
       "      <td>1.0</td>\n",
       "      <td>1.0</td>\n",
       "    </tr>\n",
       "    <tr>\n",
       "      <th>4111700017037300</th>\n",
       "      <td>0.0</td>\n",
       "      <td>1.0</td>\n",
       "      <td>1.0</td>\n",
       "    </tr>\n",
       "    <tr>\n",
       "      <th>5013000972007300</th>\n",
       "      <td>0.0</td>\n",
       "      <td>1.0</td>\n",
       "      <td>1.0</td>\n",
       "    </tr>\n",
       "  </tbody>\n",
       "</table>\n",
       "<p>30455 rows × 3 columns</p>\n",
       "</div>"
      ],
      "text/plain": [
       "                   start   end   total\n",
       "5011000078068400  3882.0  14.0  3896.0\n",
       "5013000610049100  1790.0   0.0  1790.0\n",
       "5013000731055200  1235.0   0.0  1235.0\n",
       "5011000137030100  1137.0   2.0  1139.0\n",
       "5013000821028200   731.0   0.0   731.0\n",
       "...                  ...   ...     ...\n",
       "4111700017060200     0.0   1.0     1.0\n",
       "4111700017046100     0.0   1.0     1.0\n",
       "4111700017039400     0.0   1.0     1.0\n",
       "4111700017037300     0.0   1.0     1.0\n",
       "5013000972007300     0.0   1.0     1.0\n",
       "\n",
       "[30455 rows x 3 columns]"
      ]
     },
     "execution_count": 86,
     "metadata": {},
     "output_type": "execute_result"
    }
   ],
   "source": [
    "df_start_end.sort_values(by='start', ascending=False)"
   ]
  },
  {
   "cell_type": "code",
   "execution_count": null,
   "metadata": {},
   "outputs": [],
   "source": []
  },
  {
   "cell_type": "markdown",
   "metadata": {},
   "source": [
    "## 유통경로 분석"
   ]
  },
  {
   "cell_type": "code",
   "execution_count": 87,
   "metadata": {},
   "outputs": [
    {
     "data": {
      "text/html": [
       "<div>\n",
       "<style scoped>\n",
       "    .dataframe tbody tr th:only-of-type {\n",
       "        vertical-align: middle;\n",
       "    }\n",
       "\n",
       "    .dataframe tbody tr th {\n",
       "        vertical-align: top;\n",
       "    }\n",
       "\n",
       "    .dataframe thead th {\n",
       "        text-align: right;\n",
       "    }\n",
       "</style>\n",
       "<table border=\"1\" class=\"dataframe\">\n",
       "  <thead>\n",
       "    <tr style=\"text-align: right;\">\n",
       "      <th></th>\n",
       "      <th>index</th>\n",
       "      <th>start</th>\n",
       "      <th>end</th>\n",
       "      <th>product</th>\n",
       "      <th>cnt</th>\n",
       "    </tr>\n",
       "  </thead>\n",
       "  <tbody>\n",
       "    <tr>\n",
       "      <th>0</th>\n",
       "      <td>0</td>\n",
       "      <td>5011000595017300</td>\n",
       "      <td>2871000192069300</td>\n",
       "      <td>음반</td>\n",
       "      <td>3</td>\n",
       "    </tr>\n",
       "    <tr>\n",
       "      <th>1</th>\n",
       "      <td>1</td>\n",
       "      <td>4148000690043300</td>\n",
       "      <td>5011000264024400</td>\n",
       "      <td>문화컨텐츠</td>\n",
       "      <td>3</td>\n",
       "    </tr>\n",
       "    <tr>\n",
       "      <th>2</th>\n",
       "      <td>2</td>\n",
       "      <td>5011000078068400</td>\n",
       "      <td>1120000007005400</td>\n",
       "      <td>농산물</td>\n",
       "      <td>3</td>\n",
       "    </tr>\n",
       "    <tr>\n",
       "      <th>3</th>\n",
       "      <td>3</td>\n",
       "      <td>4127100048006400</td>\n",
       "      <td>5011000587019400</td>\n",
       "      <td>기타식품</td>\n",
       "      <td>7</td>\n",
       "    </tr>\n",
       "    <tr>\n",
       "      <th>4</th>\n",
       "      <td>4</td>\n",
       "      <td>5011000078068400</td>\n",
       "      <td>2823700010076300</td>\n",
       "      <td>농산물</td>\n",
       "      <td>3</td>\n",
       "    </tr>\n",
       "  </tbody>\n",
       "</table>\n",
       "</div>"
      ],
      "text/plain": [
       "   index             start               end product  cnt\n",
       "0      0  5011000595017300  2871000192069300      음반    3\n",
       "1      1  4148000690043300  5011000264024400   문화컨텐츠    3\n",
       "2      2  5011000078068400  1120000007005400     농산물    3\n",
       "3      3  4127100048006400  5011000587019400    기타식품    7\n",
       "4      4  5011000078068400  2823700010076300     농산물    3"
      ]
     },
     "execution_count": 87,
     "metadata": {},
     "output_type": "execute_result"
    }
   ],
   "source": [
    "df.head()"
   ]
  },
  {
   "cell_type": "code",
   "execution_count": 91,
   "metadata": {},
   "outputs": [
    {
     "data": {
      "text/html": [
       "<div>\n",
       "<style scoped>\n",
       "    .dataframe tbody tr th:only-of-type {\n",
       "        vertical-align: middle;\n",
       "    }\n",
       "\n",
       "    .dataframe tbody tr th {\n",
       "        vertical-align: top;\n",
       "    }\n",
       "\n",
       "    .dataframe thead th {\n",
       "        text-align: right;\n",
       "    }\n",
       "</style>\n",
       "<table border=\"1\" class=\"dataframe\">\n",
       "  <thead>\n",
       "    <tr style=\"text-align: right;\">\n",
       "      <th></th>\n",
       "      <th>start</th>\n",
       "      <th>end</th>\n",
       "      <th>product</th>\n",
       "    </tr>\n",
       "  </thead>\n",
       "  <tbody>\n",
       "    <tr>\n",
       "      <th>3684</th>\n",
       "      <td>4141000031030100</td>\n",
       "      <td>5013000635005300</td>\n",
       "      <td>7</td>\n",
       "    </tr>\n",
       "    <tr>\n",
       "      <th>6712</th>\n",
       "      <td>4211000650079200</td>\n",
       "      <td>5011000437052400</td>\n",
       "      <td>7</td>\n",
       "    </tr>\n",
       "    <tr>\n",
       "      <th>735</th>\n",
       "      <td>1154500001021400</td>\n",
       "      <td>5011000214025100</td>\n",
       "      <td>5</td>\n",
       "    </tr>\n",
       "    <tr>\n",
       "      <th>3664</th>\n",
       "      <td>4141000031030100</td>\n",
       "      <td>5011000596012200</td>\n",
       "      <td>5</td>\n",
       "    </tr>\n",
       "    <tr>\n",
       "      <th>6962</th>\n",
       "      <td>4374500066090200</td>\n",
       "      <td>5011000427079100</td>\n",
       "      <td>5</td>\n",
       "    </tr>\n",
       "    <tr>\n",
       "      <th>...</th>\n",
       "      <td>...</td>\n",
       "      <td>...</td>\n",
       "      <td>...</td>\n",
       "    </tr>\n",
       "    <tr>\n",
       "      <th>10588</th>\n",
       "      <td>5011000078068400</td>\n",
       "      <td>4148000585018400</td>\n",
       "      <td>1</td>\n",
       "    </tr>\n",
       "    <tr>\n",
       "      <th>10587</th>\n",
       "      <td>5011000078068400</td>\n",
       "      <td>4148000557021300</td>\n",
       "      <td>1</td>\n",
       "    </tr>\n",
       "    <tr>\n",
       "      <th>10586</th>\n",
       "      <td>5011000078068400</td>\n",
       "      <td>4148000556065200</td>\n",
       "      <td>1</td>\n",
       "    </tr>\n",
       "    <tr>\n",
       "      <th>10585</th>\n",
       "      <td>5011000078068400</td>\n",
       "      <td>4148000511072200</td>\n",
       "      <td>1</td>\n",
       "    </tr>\n",
       "    <tr>\n",
       "      <th>31266</th>\n",
       "      <td>5013000946029100</td>\n",
       "      <td>4278000584065400</td>\n",
       "      <td>1</td>\n",
       "    </tr>\n",
       "  </tbody>\n",
       "</table>\n",
       "<p>31267 rows × 3 columns</p>\n",
       "</div>"
      ],
      "text/plain": [
       "                  start               end  product\n",
       "3684   4141000031030100  5013000635005300        7\n",
       "6712   4211000650079200  5011000437052400        7\n",
       "735    1154500001021400  5011000214025100        5\n",
       "3664   4141000031030100  5011000596012200        5\n",
       "6962   4374500066090200  5011000427079100        5\n",
       "...                 ...               ...      ...\n",
       "10588  5011000078068400  4148000585018400        1\n",
       "10587  5011000078068400  4148000557021300        1\n",
       "10586  5011000078068400  4148000556065200        1\n",
       "10585  5011000078068400  4148000511072200        1\n",
       "31266  5013000946029100  4278000584065400        1\n",
       "\n",
       "[31267 rows x 3 columns]"
      ]
     },
     "execution_count": 91,
     "metadata": {},
     "output_type": "execute_result"
    }
   ],
   "source": [
    "# 자주 배송되는 특정 경로는 없어 보인다.\n",
    "df_route = df.groupby(['start', 'end'], as_index=False)['product'].count()\n",
    "df_route = df_route.sort_values(by='product', ascending=False)\n",
    "df_route"
   ]
  },
  {
   "cell_type": "code",
   "execution_count": 99,
   "metadata": {},
   "outputs": [
    {
     "data": {
      "text/html": [
       "<div>\n",
       "<style scoped>\n",
       "    .dataframe tbody tr th:only-of-type {\n",
       "        vertical-align: middle;\n",
       "    }\n",
       "\n",
       "    .dataframe tbody tr th {\n",
       "        vertical-align: top;\n",
       "    }\n",
       "\n",
       "    .dataframe thead th {\n",
       "        text-align: right;\n",
       "    }\n",
       "</style>\n",
       "<table border=\"1\" class=\"dataframe\">\n",
       "  <thead>\n",
       "    <tr style=\"text-align: right;\">\n",
       "      <th></th>\n",
       "      <th>index</th>\n",
       "      <th>start</th>\n",
       "      <th>end</th>\n",
       "      <th>product</th>\n",
       "      <th>cnt</th>\n",
       "    </tr>\n",
       "  </thead>\n",
       "  <tbody>\n",
       "    <tr>\n",
       "      <th>2944</th>\n",
       "      <td>2944</td>\n",
       "      <td>1154500001021400</td>\n",
       "      <td>5011000214025100</td>\n",
       "      <td>베이스메이크업</td>\n",
       "      <td>14</td>\n",
       "    </tr>\n",
       "    <tr>\n",
       "      <th>14018</th>\n",
       "      <td>14018</td>\n",
       "      <td>1154500001021400</td>\n",
       "      <td>5011000214025100</td>\n",
       "      <td>바디케어</td>\n",
       "      <td>3</td>\n",
       "    </tr>\n",
       "    <tr>\n",
       "      <th>15826</th>\n",
       "      <td>15826</td>\n",
       "      <td>1154500001021400</td>\n",
       "      <td>5011000214025100</td>\n",
       "      <td>다이어트식품</td>\n",
       "      <td>3</td>\n",
       "    </tr>\n",
       "    <tr>\n",
       "      <th>22972</th>\n",
       "      <td>22972</td>\n",
       "      <td>1154500001021400</td>\n",
       "      <td>5011000214025100</td>\n",
       "      <td>클렌징</td>\n",
       "      <td>13</td>\n",
       "    </tr>\n",
       "    <tr>\n",
       "      <th>31630</th>\n",
       "      <td>31630</td>\n",
       "      <td>1154500001021400</td>\n",
       "      <td>5011000214025100</td>\n",
       "      <td>스킨케어</td>\n",
       "      <td>48</td>\n",
       "    </tr>\n",
       "  </tbody>\n",
       "</table>\n",
       "</div>"
      ],
      "text/plain": [
       "       index             start               end  product  cnt\n",
       "2944    2944  1154500001021400  5011000214025100  베이스메이크업   14\n",
       "14018  14018  1154500001021400  5011000214025100     바디케어    3\n",
       "15826  15826  1154500001021400  5011000214025100   다이어트식품    3\n",
       "22972  22972  1154500001021400  5011000214025100      클렌징   13\n",
       "31630  31630  1154500001021400  5011000214025100     스킨케어   48"
      ]
     },
     "execution_count": 99,
     "metadata": {},
     "output_type": "execute_result"
    }
   ],
   "source": [
    "idx = 2\n",
    "s, e, p = df_route.iloc[idx, :]\n",
    "\n",
    "df[(df['start']==s) & (df['end']==e)]"
   ]
  },
  {
   "cell_type": "code",
   "execution_count": null,
   "metadata": {},
   "outputs": [],
   "source": []
  },
  {
   "cell_type": "markdown",
   "metadata": {},
   "source": [
    "## 출발지 배차 분석"
   ]
  },
  {
   "cell_type": "code",
   "execution_count": null,
   "metadata": {},
   "outputs": [],
   "source": []
  },
  {
   "cell_type": "code",
   "execution_count": null,
   "metadata": {},
   "outputs": [],
   "source": []
  },
  {
   "cell_type": "code",
   "execution_count": null,
   "metadata": {},
   "outputs": [],
   "source": []
  },
  {
   "cell_type": "code",
   "execution_count": null,
   "metadata": {},
   "outputs": [],
   "source": []
  },
  {
   "cell_type": "markdown",
   "metadata": {},
   "source": [
    "# 모델링"
   ]
  },
  {
   "cell_type": "code",
   "execution_count": null,
   "metadata": {},
   "outputs": [],
   "source": []
  }
 ],
 "metadata": {
  "kernelspec": {
   "display_name": "ds_study",
   "language": "python",
   "name": "python3"
  },
  "language_info": {
   "codemirror_mode": {
    "name": "ipython",
    "version": 3
   },
   "file_extension": ".py",
   "mimetype": "text/x-python",
   "name": "python",
   "nbconvert_exporter": "python",
   "pygments_lexer": "ipython3",
   "version": "3.10.4"
  }
 },
 "nbformat": 4,
 "nbformat_minor": 2
}
