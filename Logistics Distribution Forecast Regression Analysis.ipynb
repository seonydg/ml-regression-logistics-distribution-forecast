{
 "cells": [
  {
   "cell_type": "code",
   "execution_count": 3,
   "metadata": {},
   "outputs": [],
   "source": [
    "import numpy as np\n",
    "import pandas as pd\n",
    "import seaborn as sns\n",
    "import matplotlib.pyplot as plt\n",
    "import koreanize_matplotlib\n",
    "%matplotlib inline\n",
    "\n",
    "import warnings\n",
    "warnings.filterwarnings('ignore')"
   ]
  },
  {
   "cell_type": "markdown",
   "metadata": {},
   "source": [
    "# 데이터 확인"
   ]
  },
  {
   "cell_type": "code",
   "execution_count": 4,
   "metadata": {},
   "outputs": [],
   "source": [
    "df = pd.read_csv('data/logistic.csv', encoding='cp949')"
   ]
  },
  {
   "cell_type": "code",
   "execution_count": 5,
   "metadata": {},
   "outputs": [
    {
     "data": {
      "text/html": [
       "<div>\n",
       "<style scoped>\n",
       "    .dataframe tbody tr th:only-of-type {\n",
       "        vertical-align: middle;\n",
       "    }\n",
       "\n",
       "    .dataframe tbody tr th {\n",
       "        vertical-align: top;\n",
       "    }\n",
       "\n",
       "    .dataframe thead th {\n",
       "        text-align: right;\n",
       "    }\n",
       "</style>\n",
       "<table border=\"1\" class=\"dataframe\">\n",
       "  <thead>\n",
       "    <tr style=\"text-align: right;\">\n",
       "      <th></th>\n",
       "      <th>index</th>\n",
       "      <th>송하인_격자공간고유번호</th>\n",
       "      <th>수하인_격자공간고유번호</th>\n",
       "      <th>물품_카테고리</th>\n",
       "      <th>운송장_건수</th>\n",
       "    </tr>\n",
       "  </thead>\n",
       "  <tbody>\n",
       "    <tr>\n",
       "      <th>0</th>\n",
       "      <td>0</td>\n",
       "      <td>5011000595017300</td>\n",
       "      <td>2871000192069300</td>\n",
       "      <td>음반</td>\n",
       "      <td>3</td>\n",
       "    </tr>\n",
       "    <tr>\n",
       "      <th>1</th>\n",
       "      <td>1</td>\n",
       "      <td>4148000690043300</td>\n",
       "      <td>5011000264024400</td>\n",
       "      <td>문화컨텐츠</td>\n",
       "      <td>3</td>\n",
       "    </tr>\n",
       "    <tr>\n",
       "      <th>2</th>\n",
       "      <td>2</td>\n",
       "      <td>5011000078068400</td>\n",
       "      <td>1120000007005400</td>\n",
       "      <td>농산물</td>\n",
       "      <td>3</td>\n",
       "    </tr>\n",
       "    <tr>\n",
       "      <th>3</th>\n",
       "      <td>3</td>\n",
       "      <td>4127100048006400</td>\n",
       "      <td>5011000587019400</td>\n",
       "      <td>기타식품</td>\n",
       "      <td>7</td>\n",
       "    </tr>\n",
       "    <tr>\n",
       "      <th>4</th>\n",
       "      <td>4</td>\n",
       "      <td>5011000078068400</td>\n",
       "      <td>2823700010076300</td>\n",
       "      <td>농산물</td>\n",
       "      <td>3</td>\n",
       "    </tr>\n",
       "  </tbody>\n",
       "</table>\n",
       "</div>"
      ],
      "text/plain": [
       "   index      송하인_격자공간고유번호      수하인_격자공간고유번호 물품_카테고리  운송장_건수\n",
       "0      0  5011000595017300  2871000192069300      음반       3\n",
       "1      1  4148000690043300  5011000264024400   문화컨텐츠       3\n",
       "2      2  5011000078068400  1120000007005400     농산물       3\n",
       "3      3  4127100048006400  5011000587019400    기타식품       7\n",
       "4      4  5011000078068400  2823700010076300     농산물       3"
      ]
     },
     "execution_count": 5,
     "metadata": {},
     "output_type": "execute_result"
    }
   ],
   "source": [
    "df.head()"
   ]
  },
  {
   "cell_type": "markdown",
   "metadata": {},
   "source": [
    "# 데이터 EDA & 전처리"
   ]
  },
  {
   "cell_type": "markdown",
   "metadata": {},
   "source": [
    "## 기본 정보"
   ]
  },
  {
   "cell_type": "code",
   "execution_count": 6,
   "metadata": {},
   "outputs": [
    {
     "name": "stdout",
     "output_type": "stream",
     "text": [
      "<class 'pandas.core.frame.DataFrame'>\n",
      "RangeIndex: 31684 entries, 0 to 31683\n",
      "Data columns (total 5 columns):\n",
      " #   Column        Non-Null Count  Dtype \n",
      "---  ------        --------------  ----- \n",
      " 0   index         31684 non-null  int64 \n",
      " 1   송하인_격자공간고유번호  31684 non-null  int64 \n",
      " 2   수하인_격자공간고유번호  31684 non-null  int64 \n",
      " 3   물품_카테고리       31684 non-null  object\n",
      " 4   운송장_건수        31684 non-null  int64 \n",
      "dtypes: int64(4), object(1)\n",
      "memory usage: 1.2+ MB\n"
     ]
    }
   ],
   "source": [
    "df.info()"
   ]
  },
  {
   "cell_type": "code",
   "execution_count": 7,
   "metadata": {},
   "outputs": [
    {
     "data": {
      "text/plain": [
       "(31684, 5)"
      ]
     },
     "execution_count": 7,
     "metadata": {},
     "output_type": "execute_result"
    }
   ],
   "source": [
    "df.shape"
   ]
  },
  {
   "cell_type": "code",
   "execution_count": 8,
   "metadata": {},
   "outputs": [
    {
     "data": {
      "text/html": [
       "<div>\n",
       "<style scoped>\n",
       "    .dataframe tbody tr th:only-of-type {\n",
       "        vertical-align: middle;\n",
       "    }\n",
       "\n",
       "    .dataframe tbody tr th {\n",
       "        vertical-align: top;\n",
       "    }\n",
       "\n",
       "    .dataframe thead th {\n",
       "        text-align: right;\n",
       "    }\n",
       "</style>\n",
       "<table border=\"1\" class=\"dataframe\">\n",
       "  <thead>\n",
       "    <tr style=\"text-align: right;\">\n",
       "      <th></th>\n",
       "      <th>index</th>\n",
       "      <th>송하인_격자공간고유번호</th>\n",
       "      <th>수하인_격자공간고유번호</th>\n",
       "      <th>운송장_건수</th>\n",
       "    </tr>\n",
       "  </thead>\n",
       "  <tbody>\n",
       "    <tr>\n",
       "      <th>count</th>\n",
       "      <td>31684.000000</td>\n",
       "      <td>3.168400e+04</td>\n",
       "      <td>3.168400e+04</td>\n",
       "      <td>31684.000000</td>\n",
       "    </tr>\n",
       "    <tr>\n",
       "      <th>mean</th>\n",
       "      <td>15841.500000</td>\n",
       "      <td>4.648814e+15</td>\n",
       "      <td>3.801369e+15</td>\n",
       "      <td>4.879308</td>\n",
       "    </tr>\n",
       "    <tr>\n",
       "      <th>std</th>\n",
       "      <td>9146.527301</td>\n",
       "      <td>8.341336e+14</td>\n",
       "      <td>1.314660e+15</td>\n",
       "      <td>6.756473</td>\n",
       "    </tr>\n",
       "    <tr>\n",
       "      <th>min</th>\n",
       "      <td>0.000000</td>\n",
       "      <td>1.111000e+15</td>\n",
       "      <td>1.111000e+15</td>\n",
       "      <td>3.000000</td>\n",
       "    </tr>\n",
       "    <tr>\n",
       "      <th>25%</th>\n",
       "      <td>7920.750000</td>\n",
       "      <td>4.713000e+15</td>\n",
       "      <td>2.826000e+15</td>\n",
       "      <td>3.000000</td>\n",
       "    </tr>\n",
       "    <tr>\n",
       "      <th>50%</th>\n",
       "      <td>15841.500000</td>\n",
       "      <td>5.011000e+15</td>\n",
       "      <td>4.159000e+15</td>\n",
       "      <td>3.000000</td>\n",
       "    </tr>\n",
       "    <tr>\n",
       "      <th>75%</th>\n",
       "      <td>23762.250000</td>\n",
       "      <td>5.013001e+15</td>\n",
       "      <td>5.011000e+15</td>\n",
       "      <td>5.000000</td>\n",
       "    </tr>\n",
       "    <tr>\n",
       "      <th>max</th>\n",
       "      <td>31683.000000</td>\n",
       "      <td>5.013001e+15</td>\n",
       "      <td>5.013001e+15</td>\n",
       "      <td>413.000000</td>\n",
       "    </tr>\n",
       "  </tbody>\n",
       "</table>\n",
       "</div>"
      ],
      "text/plain": [
       "              index  송하인_격자공간고유번호  수하인_격자공간고유번호        운송장_건수\n",
       "count  31684.000000  3.168400e+04  3.168400e+04  31684.000000\n",
       "mean   15841.500000  4.648814e+15  3.801369e+15      4.879308\n",
       "std     9146.527301  8.341336e+14  1.314660e+15      6.756473\n",
       "min        0.000000  1.111000e+15  1.111000e+15      3.000000\n",
       "25%     7920.750000  4.713000e+15  2.826000e+15      3.000000\n",
       "50%    15841.500000  5.011000e+15  4.159000e+15      3.000000\n",
       "75%    23762.250000  5.013001e+15  5.011000e+15      5.000000\n",
       "max    31683.000000  5.013001e+15  5.013001e+15    413.000000"
      ]
     },
     "execution_count": 8,
     "metadata": {},
     "output_type": "execute_result"
    }
   ],
   "source": [
    "df.describe()"
   ]
  },
  {
   "cell_type": "code",
   "execution_count": 9,
   "metadata": {},
   "outputs": [
    {
     "data": {
      "text/plain": [
       "index           0\n",
       "송하인_격자공간고유번호    0\n",
       "수하인_격자공간고유번호    0\n",
       "물품_카테고리         0\n",
       "운송장_건수          0\n",
       "dtype: int64"
      ]
     },
     "execution_count": 9,
     "metadata": {},
     "output_type": "execute_result"
    }
   ],
   "source": [
    "df.isnull().sum()"
   ]
  },
  {
   "cell_type": "code",
   "execution_count": 10,
   "metadata": {},
   "outputs": [
    {
     "data": {
      "text/plain": [
       "index            0.000000\n",
       "송하인_격자공간고유번호    -3.025235\n",
       "수하인_격자공간고유번호    -1.005811\n",
       "운송장_건수          18.083137\n",
       "dtype: float64"
      ]
     },
     "execution_count": 10,
     "metadata": {},
     "output_type": "execute_result"
    }
   ],
   "source": [
    "df.skew()"
   ]
  },
  {
   "cell_type": "code",
   "execution_count": 11,
   "metadata": {},
   "outputs": [
    {
     "data": {
      "text/plain": [
       "Index(['index', '송하인_격자공간고유번호', '수하인_격자공간고유번호', '물품_카테고리', '운송장_건수'], dtype='object')"
      ]
     },
     "execution_count": 11,
     "metadata": {},
     "output_type": "execute_result"
    }
   ],
   "source": [
    "df.columns"
   ]
  },
  {
   "cell_type": "code",
   "execution_count": 16,
   "metadata": {},
   "outputs": [
    {
     "name": "stdout",
     "output_type": "stream",
     "text": [
      "index num :  31684\n",
      "index :  [    0     1     2 ... 31681 31682 31683]\n",
      "송하인_격자공간고유번호 num :  4229\n",
      "송하인_격자공간고유번호 :  [5011000595017300 4148000690043300 5011000078068400 ... 2638000008087200\n",
      " 1120000013030100 2811000139076100]\n",
      "수하인_격자공간고유번호 num :  26875\n",
      "수하인_격자공간고유번호 :  [2871000192069300 5011000264024400 1120000007005400 ... 5013000954034200\n",
      " 5011000213073200 5011000263065200]\n",
      "물품_카테고리 num :  100\n",
      "물품_카테고리 :  ['음반' '문화컨텐츠' '농산물' '기타식품' '수산' '아우터' '신발' '건강식품' '음료' '가공식품' '스킨케어' '축산'\n",
      " '헤어케어' '기저귀/물티슈' '의료용품' '기타디지털/가전' '상의' '건강용품' '바디케어' '기타스포츠/레저'\n",
      " '출산/유아동의류' '반려동물' '완구/매트' '과자' '생활용품' '하의' '문구/사무용품' '선케어' '다이어트식품'\n",
      " '기타패션의류' '냉동/간편조리식품' '네일케어' '서재/사무용가구' '선글라스/안경테' '기타화장품/미용' '등산' '모니터'\n",
      " '주방용품' '색조메이크업' '침구세트' '침구단품' '인테리어소품' '양말/스타킹' '클렌징' '공구' '이미용가전' 'PC'\n",
      " '커튼/블라인드' '헤어스타일링' '주방가구' 'DIY자재/용품' '헤어액세서리' '김치' '위생/건강용품' '침실가구' '가방'\n",
      " '주방가전' '낚시' '재활운동용품' '자동차용품' '뷰티소품' '주얼리' '골프' 'PC주변기기' '수납/정리용품' '음향가전'\n",
      " '잠옷' '패션소품' '언더웨어' '원피스/점프슈트' '스포츠잡화' '수납가구' '취미용품' '아웃도어가구' '계절가전' '홈데코'\n",
      " '캠핑' '남성화장품' '분유/이유식/아기간식' '베이스메이크업' '헬스' '향수' '모자' '카페트/러그' '구강위생용품'\n",
      " '눈관리용품' '기타출산/육아' '기타패션잡화' '기능성' '반찬' '욕실용품' '스마트디바이스액세서리' '게임기/타이틀'\n",
      " '생활가전' '유아가구' '출산/유아동잡화' '세탁용품' '태블릿PC/노트북액세서리' '스마트디바이스' '지갑']\n",
      "운송장_건수 num :  100\n",
      "운송장_건수 :  [  3   7   6   5   8   4  10   9  77  11  27  37  16  24  31  30  18 100\n",
      "  12  20  41  13  14  17  15  26  80  47  25  39  38  22  81  42  21  53\n",
      "  19  28  91  29  23  48  56  32  84 197  60  62  43  40  50  46  58  75\n",
      "  78  63  90 151  34  70  33  45 160 105 164  52  36 120  72  61  93 123\n",
      "  35  51  49  54  44 108 211 130 134  79 118  76  67  74  68 179 109 122\n",
      " 195  71 413  66 150  59 103 239  82  89]\n"
     ]
    }
   ],
   "source": [
    "for col in df.columns:\n",
    "    print(f'{col} num : ', len(df[col].unique()))\n",
    "    print(f'{col} : ', df[col].unique())"
   ]
  },
  {
   "cell_type": "code",
   "execution_count": 17,
   "metadata": {},
   "outputs": [
    {
     "data": {
      "text/html": [
       "<div>\n",
       "<style scoped>\n",
       "    .dataframe tbody tr th:only-of-type {\n",
       "        vertical-align: middle;\n",
       "    }\n",
       "\n",
       "    .dataframe tbody tr th {\n",
       "        vertical-align: top;\n",
       "    }\n",
       "\n",
       "    .dataframe thead th {\n",
       "        text-align: right;\n",
       "    }\n",
       "</style>\n",
       "<table border=\"1\" class=\"dataframe\">\n",
       "  <thead>\n",
       "    <tr style=\"text-align: right;\">\n",
       "      <th></th>\n",
       "      <th>index</th>\n",
       "      <th>start</th>\n",
       "      <th>end</th>\n",
       "      <th>product</th>\n",
       "      <th>cnt</th>\n",
       "    </tr>\n",
       "  </thead>\n",
       "  <tbody>\n",
       "    <tr>\n",
       "      <th>0</th>\n",
       "      <td>0</td>\n",
       "      <td>5011000595017300</td>\n",
       "      <td>2871000192069300</td>\n",
       "      <td>음반</td>\n",
       "      <td>3</td>\n",
       "    </tr>\n",
       "    <tr>\n",
       "      <th>1</th>\n",
       "      <td>1</td>\n",
       "      <td>4148000690043300</td>\n",
       "      <td>5011000264024400</td>\n",
       "      <td>문화컨텐츠</td>\n",
       "      <td>3</td>\n",
       "    </tr>\n",
       "    <tr>\n",
       "      <th>2</th>\n",
       "      <td>2</td>\n",
       "      <td>5011000078068400</td>\n",
       "      <td>1120000007005400</td>\n",
       "      <td>농산물</td>\n",
       "      <td>3</td>\n",
       "    </tr>\n",
       "    <tr>\n",
       "      <th>3</th>\n",
       "      <td>3</td>\n",
       "      <td>4127100048006400</td>\n",
       "      <td>5011000587019400</td>\n",
       "      <td>기타식품</td>\n",
       "      <td>7</td>\n",
       "    </tr>\n",
       "    <tr>\n",
       "      <th>4</th>\n",
       "      <td>4</td>\n",
       "      <td>5011000078068400</td>\n",
       "      <td>2823700010076300</td>\n",
       "      <td>농산물</td>\n",
       "      <td>3</td>\n",
       "    </tr>\n",
       "  </tbody>\n",
       "</table>\n",
       "</div>"
      ],
      "text/plain": [
       "   index             start               end product  cnt\n",
       "0      0  5011000595017300  2871000192069300      음반    3\n",
       "1      1  4148000690043300  5011000264024400   문화컨텐츠    3\n",
       "2      2  5011000078068400  1120000007005400     농산물    3\n",
       "3      3  4127100048006400  5011000587019400    기타식품    7\n",
       "4      4  5011000078068400  2823700010076300     농산물    3"
      ]
     },
     "execution_count": 17,
     "metadata": {},
     "output_type": "execute_result"
    }
   ],
   "source": [
    "df.columns = ['index', 'start', 'end', 'product', 'cnt']\n",
    "df.head()"
   ]
  },
  {
   "cell_type": "code",
   "execution_count": null,
   "metadata": {},
   "outputs": [],
   "source": []
  }
 ],
 "metadata": {
  "kernelspec": {
   "display_name": "ds_study",
   "language": "python",
   "name": "python3"
  },
  "language_info": {
   "codemirror_mode": {
    "name": "ipython",
    "version": 3
   },
   "file_extension": ".py",
   "mimetype": "text/x-python",
   "name": "python",
   "nbconvert_exporter": "python",
   "pygments_lexer": "ipython3",
   "version": "3.8.12"
  }
 },
 "nbformat": 4,
 "nbformat_minor": 2
}
